{
 "cells": [
  {
   "cell_type": "markdown",
   "id": "094ce3c6",
   "metadata": {
    "papermill": {
     "duration": 0.004024,
     "end_time": "2025-08-02T18:49:12.674743",
     "exception": false,
     "start_time": "2025-08-02T18:49:12.670719",
     "status": "completed"
    },
    "tags": []
   },
   "source": [
    "# Loading data and understanding about data"
   ]
  },
  {
   "cell_type": "code",
   "execution_count": 1,
   "id": "ed435ff4",
   "metadata": {
    "execution": {
     "iopub.execute_input": "2025-08-02T18:49:12.683305Z",
     "iopub.status.busy": "2025-08-02T18:49:12.682886Z",
     "iopub.status.idle": "2025-08-02T18:49:14.877018Z",
     "shell.execute_reply": "2025-08-02T18:49:14.875505Z"
    },
    "papermill": {
     "duration": 2.200745,
     "end_time": "2025-08-02T18:49:14.879240",
     "exception": false,
     "start_time": "2025-08-02T18:49:12.678495",
     "status": "completed"
    },
    "tags": []
   },
   "outputs": [
    {
     "data": {
      "text/html": [
       "<div>\n",
       "<style scoped>\n",
       "    .dataframe tbody tr th:only-of-type {\n",
       "        vertical-align: middle;\n",
       "    }\n",
       "\n",
       "    .dataframe tbody tr th {\n",
       "        vertical-align: top;\n",
       "    }\n",
       "\n",
       "    .dataframe thead th {\n",
       "        text-align: right;\n",
       "    }\n",
       "</style>\n",
       "<table border=\"1\" class=\"dataframe\">\n",
       "  <thead>\n",
       "    <tr style=\"text-align: right;\">\n",
       "      <th></th>\n",
       "      <th>id</th>\n",
       "      <th>diagnosis</th>\n",
       "      <th>radius_mean</th>\n",
       "      <th>texture_mean</th>\n",
       "      <th>perimeter_mean</th>\n",
       "      <th>area_mean</th>\n",
       "      <th>smoothness_mean</th>\n",
       "      <th>compactness_mean</th>\n",
       "      <th>concavity_mean</th>\n",
       "      <th>concave points_mean</th>\n",
       "      <th>...</th>\n",
       "      <th>texture_worst</th>\n",
       "      <th>perimeter_worst</th>\n",
       "      <th>area_worst</th>\n",
       "      <th>smoothness_worst</th>\n",
       "      <th>compactness_worst</th>\n",
       "      <th>concavity_worst</th>\n",
       "      <th>concave points_worst</th>\n",
       "      <th>symmetry_worst</th>\n",
       "      <th>fractal_dimension_worst</th>\n",
       "      <th>Unnamed: 32</th>\n",
       "    </tr>\n",
       "  </thead>\n",
       "  <tbody>\n",
       "    <tr>\n",
       "      <th>0</th>\n",
       "      <td>842302</td>\n",
       "      <td>M</td>\n",
       "      <td>17.99</td>\n",
       "      <td>10.38</td>\n",
       "      <td>122.80</td>\n",
       "      <td>1001.0</td>\n",
       "      <td>0.11840</td>\n",
       "      <td>0.27760</td>\n",
       "      <td>0.3001</td>\n",
       "      <td>0.14710</td>\n",
       "      <td>...</td>\n",
       "      <td>17.33</td>\n",
       "      <td>184.60</td>\n",
       "      <td>2019.0</td>\n",
       "      <td>0.1622</td>\n",
       "      <td>0.6656</td>\n",
       "      <td>0.7119</td>\n",
       "      <td>0.2654</td>\n",
       "      <td>0.4601</td>\n",
       "      <td>0.11890</td>\n",
       "      <td>NaN</td>\n",
       "    </tr>\n",
       "    <tr>\n",
       "      <th>1</th>\n",
       "      <td>842517</td>\n",
       "      <td>M</td>\n",
       "      <td>20.57</td>\n",
       "      <td>17.77</td>\n",
       "      <td>132.90</td>\n",
       "      <td>1326.0</td>\n",
       "      <td>0.08474</td>\n",
       "      <td>0.07864</td>\n",
       "      <td>0.0869</td>\n",
       "      <td>0.07017</td>\n",
       "      <td>...</td>\n",
       "      <td>23.41</td>\n",
       "      <td>158.80</td>\n",
       "      <td>1956.0</td>\n",
       "      <td>0.1238</td>\n",
       "      <td>0.1866</td>\n",
       "      <td>0.2416</td>\n",
       "      <td>0.1860</td>\n",
       "      <td>0.2750</td>\n",
       "      <td>0.08902</td>\n",
       "      <td>NaN</td>\n",
       "    </tr>\n",
       "    <tr>\n",
       "      <th>2</th>\n",
       "      <td>84300903</td>\n",
       "      <td>M</td>\n",
       "      <td>19.69</td>\n",
       "      <td>21.25</td>\n",
       "      <td>130.00</td>\n",
       "      <td>1203.0</td>\n",
       "      <td>0.10960</td>\n",
       "      <td>0.15990</td>\n",
       "      <td>0.1974</td>\n",
       "      <td>0.12790</td>\n",
       "      <td>...</td>\n",
       "      <td>25.53</td>\n",
       "      <td>152.50</td>\n",
       "      <td>1709.0</td>\n",
       "      <td>0.1444</td>\n",
       "      <td>0.4245</td>\n",
       "      <td>0.4504</td>\n",
       "      <td>0.2430</td>\n",
       "      <td>0.3613</td>\n",
       "      <td>0.08758</td>\n",
       "      <td>NaN</td>\n",
       "    </tr>\n",
       "    <tr>\n",
       "      <th>3</th>\n",
       "      <td>84348301</td>\n",
       "      <td>M</td>\n",
       "      <td>11.42</td>\n",
       "      <td>20.38</td>\n",
       "      <td>77.58</td>\n",
       "      <td>386.1</td>\n",
       "      <td>0.14250</td>\n",
       "      <td>0.28390</td>\n",
       "      <td>0.2414</td>\n",
       "      <td>0.10520</td>\n",
       "      <td>...</td>\n",
       "      <td>26.50</td>\n",
       "      <td>98.87</td>\n",
       "      <td>567.7</td>\n",
       "      <td>0.2098</td>\n",
       "      <td>0.8663</td>\n",
       "      <td>0.6869</td>\n",
       "      <td>0.2575</td>\n",
       "      <td>0.6638</td>\n",
       "      <td>0.17300</td>\n",
       "      <td>NaN</td>\n",
       "    </tr>\n",
       "    <tr>\n",
       "      <th>4</th>\n",
       "      <td>84358402</td>\n",
       "      <td>M</td>\n",
       "      <td>20.29</td>\n",
       "      <td>14.34</td>\n",
       "      <td>135.10</td>\n",
       "      <td>1297.0</td>\n",
       "      <td>0.10030</td>\n",
       "      <td>0.13280</td>\n",
       "      <td>0.1980</td>\n",
       "      <td>0.10430</td>\n",
       "      <td>...</td>\n",
       "      <td>16.67</td>\n",
       "      <td>152.20</td>\n",
       "      <td>1575.0</td>\n",
       "      <td>0.1374</td>\n",
       "      <td>0.2050</td>\n",
       "      <td>0.4000</td>\n",
       "      <td>0.1625</td>\n",
       "      <td>0.2364</td>\n",
       "      <td>0.07678</td>\n",
       "      <td>NaN</td>\n",
       "    </tr>\n",
       "  </tbody>\n",
       "</table>\n",
       "<p>5 rows × 33 columns</p>\n",
       "</div>"
      ],
      "text/plain": [
       "         id diagnosis  radius_mean  texture_mean  perimeter_mean  area_mean  \\\n",
       "0    842302         M        17.99         10.38          122.80     1001.0   \n",
       "1    842517         M        20.57         17.77          132.90     1326.0   \n",
       "2  84300903         M        19.69         21.25          130.00     1203.0   \n",
       "3  84348301         M        11.42         20.38           77.58      386.1   \n",
       "4  84358402         M        20.29         14.34          135.10     1297.0   \n",
       "\n",
       "   smoothness_mean  compactness_mean  concavity_mean  concave points_mean  \\\n",
       "0          0.11840           0.27760          0.3001              0.14710   \n",
       "1          0.08474           0.07864          0.0869              0.07017   \n",
       "2          0.10960           0.15990          0.1974              0.12790   \n",
       "3          0.14250           0.28390          0.2414              0.10520   \n",
       "4          0.10030           0.13280          0.1980              0.10430   \n",
       "\n",
       "   ...  texture_worst  perimeter_worst  area_worst  smoothness_worst  \\\n",
       "0  ...          17.33           184.60      2019.0            0.1622   \n",
       "1  ...          23.41           158.80      1956.0            0.1238   \n",
       "2  ...          25.53           152.50      1709.0            0.1444   \n",
       "3  ...          26.50            98.87       567.7            0.2098   \n",
       "4  ...          16.67           152.20      1575.0            0.1374   \n",
       "\n",
       "   compactness_worst  concavity_worst  concave points_worst  symmetry_worst  \\\n",
       "0             0.6656           0.7119                0.2654          0.4601   \n",
       "1             0.1866           0.2416                0.1860          0.2750   \n",
       "2             0.4245           0.4504                0.2430          0.3613   \n",
       "3             0.8663           0.6869                0.2575          0.6638   \n",
       "4             0.2050           0.4000                0.1625          0.2364   \n",
       "\n",
       "   fractal_dimension_worst  Unnamed: 32  \n",
       "0                  0.11890          NaN  \n",
       "1                  0.08902          NaN  \n",
       "2                  0.08758          NaN  \n",
       "3                  0.17300          NaN  \n",
       "4                  0.07678          NaN  \n",
       "\n",
       "[5 rows x 33 columns]"
      ]
     },
     "execution_count": 1,
     "metadata": {},
     "output_type": "execute_result"
    }
   ],
   "source": [
    "import warnings # ignore all the warnings\n",
    "import numpy as np # linear algebra\n",
    "import pandas as pd # data processing, CSV file I/O (e.g. pd.read_csv)\n",
    "\n",
    "warnings.filterwarnings(\"ignore\")\n",
    "\n",
    "df = pd.read_csv('/kaggle/input/breast-cancer-dataset/Breast_cancer_dataset.csv')\n",
    "df.head()"
   ]
  },
  {
   "cell_type": "code",
   "execution_count": 2,
   "id": "44627c99",
   "metadata": {
    "execution": {
     "iopub.execute_input": "2025-08-02T18:49:14.890723Z",
     "iopub.status.busy": "2025-08-02T18:49:14.890364Z",
     "iopub.status.idle": "2025-08-02T18:49:14.900143Z",
     "shell.execute_reply": "2025-08-02T18:49:14.899119Z"
    },
    "papermill": {
     "duration": 0.017142,
     "end_time": "2025-08-02T18:49:14.902005",
     "exception": false,
     "start_time": "2025-08-02T18:49:14.884863",
     "status": "completed"
    },
    "tags": []
   },
   "outputs": [
    {
     "data": {
      "text/plain": [
       "Index(['id', 'diagnosis', 'radius_mean', 'texture_mean', 'perimeter_mean',\n",
       "       'area_mean', 'smoothness_mean', 'compactness_mean', 'concavity_mean',\n",
       "       'concave points_mean', 'symmetry_mean', 'fractal_dimension_mean',\n",
       "       'radius_se', 'texture_se', 'perimeter_se', 'area_se', 'smoothness_se',\n",
       "       'compactness_se', 'concavity_se', 'concave points_se', 'symmetry_se',\n",
       "       'fractal_dimension_se', 'radius_worst', 'texture_worst',\n",
       "       'perimeter_worst', 'area_worst', 'smoothness_worst',\n",
       "       'compactness_worst', 'concavity_worst', 'concave points_worst',\n",
       "       'symmetry_worst', 'fractal_dimension_worst', 'Unnamed: 32'],\n",
       "      dtype='object')"
      ]
     },
     "execution_count": 2,
     "metadata": {},
     "output_type": "execute_result"
    }
   ],
   "source": [
    "df.columns"
   ]
  },
  {
   "cell_type": "markdown",
   "id": "563064cd",
   "metadata": {
    "papermill": {
     "duration": 0.003823,
     "end_time": "2025-08-02T18:49:14.910824",
     "exception": false,
     "start_time": "2025-08-02T18:49:14.907001",
     "status": "completed"
    },
    "tags": []
   },
   "source": [
    "# cleaning unuseful data "
   ]
  },
  {
   "cell_type": "markdown",
   "id": "14e8416b",
   "metadata": {
    "papermill": {
     "duration": 0.00365,
     "end_time": "2025-08-02T18:49:14.918446",
     "exception": false,
     "start_time": "2025-08-02T18:49:14.914796",
     "status": "completed"
    },
    "tags": []
   },
   "source": [
    "This is a breast cancer data set with a lot of columns. I don't know anything about breast cancer and maybe correlation helps me!"
   ]
  },
  {
   "cell_type": "code",
   "execution_count": 3,
   "id": "9c9b7dbe",
   "metadata": {
    "execution": {
     "iopub.execute_input": "2025-08-02T18:49:14.928132Z",
     "iopub.status.busy": "2025-08-02T18:49:14.927819Z",
     "iopub.status.idle": "2025-08-02T18:49:14.936739Z",
     "shell.execute_reply": "2025-08-02T18:49:14.935697Z"
    },
    "papermill": {
     "duration": 0.015949,
     "end_time": "2025-08-02T18:49:14.938346",
     "exception": false,
     "start_time": "2025-08-02T18:49:14.922397",
     "status": "completed"
    },
    "tags": []
   },
   "outputs": [],
   "source": [
    "df = df.drop(['id','Unnamed: 32'], axis=1)"
   ]
  },
  {
   "cell_type": "code",
   "execution_count": 4,
   "id": "11ee1cfa",
   "metadata": {
    "execution": {
     "iopub.execute_input": "2025-08-02T18:49:14.947505Z",
     "iopub.status.busy": "2025-08-02T18:49:14.947115Z",
     "iopub.status.idle": "2025-08-02T18:49:14.954466Z",
     "shell.execute_reply": "2025-08-02T18:49:14.953306Z"
    },
    "papermill": {
     "duration": 0.013885,
     "end_time": "2025-08-02T18:49:14.956295",
     "exception": false,
     "start_time": "2025-08-02T18:49:14.942410",
     "status": "completed"
    },
    "tags": []
   },
   "outputs": [
    {
     "data": {
      "text/plain": [
       "Index(['diagnosis', 'radius_mean', 'texture_mean', 'perimeter_mean',\n",
       "       'area_mean', 'smoothness_mean', 'compactness_mean', 'concavity_mean',\n",
       "       'concave points_mean', 'symmetry_mean', 'fractal_dimension_mean',\n",
       "       'radius_se', 'texture_se', 'perimeter_se', 'area_se', 'smoothness_se',\n",
       "       'compactness_se', 'concavity_se', 'concave points_se', 'symmetry_se',\n",
       "       'fractal_dimension_se', 'radius_worst', 'texture_worst',\n",
       "       'perimeter_worst', 'area_worst', 'smoothness_worst',\n",
       "       'compactness_worst', 'concavity_worst', 'concave points_worst',\n",
       "       'symmetry_worst', 'fractal_dimension_worst'],\n",
       "      dtype='object')"
      ]
     },
     "execution_count": 4,
     "metadata": {},
     "output_type": "execute_result"
    }
   ],
   "source": [
    "df.columns"
   ]
  },
  {
   "cell_type": "markdown",
   "id": "4ccf2132",
   "metadata": {
    "papermill": {
     "duration": 0.003508,
     "end_time": "2025-08-02T18:49:14.963839",
     "exception": false,
     "start_time": "2025-08-02T18:49:14.960331",
     "status": "completed"
    },
    "tags": []
   },
   "source": [
    "# data Encoding"
   ]
  },
  {
   "cell_type": "code",
   "execution_count": 5,
   "id": "d312b1c9",
   "metadata": {
    "execution": {
     "iopub.execute_input": "2025-08-02T18:49:14.972691Z",
     "iopub.status.busy": "2025-08-02T18:49:14.972391Z",
     "iopub.status.idle": "2025-08-02T18:49:14.981377Z",
     "shell.execute_reply": "2025-08-02T18:49:14.980330Z"
    },
    "papermill": {
     "duration": 0.015272,
     "end_time": "2025-08-02T18:49:14.982998",
     "exception": false,
     "start_time": "2025-08-02T18:49:14.967726",
     "status": "completed"
    },
    "tags": []
   },
   "outputs": [
    {
     "data": {
      "text/plain": [
       "diagnosis                   object\n",
       "radius_mean                float64\n",
       "texture_mean               float64\n",
       "perimeter_mean             float64\n",
       "area_mean                  float64\n",
       "smoothness_mean            float64\n",
       "compactness_mean           float64\n",
       "concavity_mean             float64\n",
       "concave points_mean        float64\n",
       "symmetry_mean              float64\n",
       "fractal_dimension_mean     float64\n",
       "radius_se                  float64\n",
       "texture_se                 float64\n",
       "perimeter_se               float64\n",
       "area_se                    float64\n",
       "smoothness_se              float64\n",
       "compactness_se             float64\n",
       "concavity_se               float64\n",
       "concave points_se          float64\n",
       "symmetry_se                float64\n",
       "fractal_dimension_se       float64\n",
       "radius_worst               float64\n",
       "texture_worst              float64\n",
       "perimeter_worst            float64\n",
       "area_worst                 float64\n",
       "smoothness_worst           float64\n",
       "compactness_worst          float64\n",
       "concavity_worst            float64\n",
       "concave points_worst       float64\n",
       "symmetry_worst             float64\n",
       "fractal_dimension_worst    float64\n",
       "dtype: object"
      ]
     },
     "execution_count": 5,
     "metadata": {},
     "output_type": "execute_result"
    }
   ],
   "source": [
    "df.dtypes"
   ]
  },
  {
   "cell_type": "code",
   "execution_count": 6,
   "id": "ee0f6fe9",
   "metadata": {
    "execution": {
     "iopub.execute_input": "2025-08-02T18:49:14.998837Z",
     "iopub.status.busy": "2025-08-02T18:49:14.998480Z",
     "iopub.status.idle": "2025-08-02T18:49:15.007863Z",
     "shell.execute_reply": "2025-08-02T18:49:15.006620Z"
    },
    "papermill": {
     "duration": 0.019595,
     "end_time": "2025-08-02T18:49:15.009725",
     "exception": false,
     "start_time": "2025-08-02T18:49:14.990130",
     "status": "completed"
    },
    "tags": []
   },
   "outputs": [
    {
     "data": {
      "text/plain": [
       "array(['M', 'B'], dtype=object)"
      ]
     },
     "execution_count": 6,
     "metadata": {},
     "output_type": "execute_result"
    }
   ],
   "source": [
    "df['diagnosis'].unique()\n",
    "# Ok then we only have B and M (nothing to be worry about)"
   ]
  },
  {
   "cell_type": "markdown",
   "id": "21b75691",
   "metadata": {
    "papermill": {
     "duration": 0.003943,
     "end_time": "2025-08-02T18:49:15.018492",
     "exception": false,
     "start_time": "2025-08-02T18:49:15.014549",
     "status": "completed"
    },
    "tags": []
   },
   "source": [
    "All of the data is float except target feature --> diagnosis  : we need to encode it with map fucntion "
   ]
  },
  {
   "cell_type": "code",
   "execution_count": 7,
   "id": "4bf013c5",
   "metadata": {
    "execution": {
     "iopub.execute_input": "2025-08-02T18:49:15.029320Z",
     "iopub.status.busy": "2025-08-02T18:49:15.028747Z",
     "iopub.status.idle": "2025-08-02T18:49:15.036720Z",
     "shell.execute_reply": "2025-08-02T18:49:15.035681Z"
    },
    "papermill": {
     "duration": 0.01536,
     "end_time": "2025-08-02T18:49:15.038447",
     "exception": false,
     "start_time": "2025-08-02T18:49:15.023087",
     "status": "completed"
    },
    "tags": []
   },
   "outputs": [],
   "source": [
    "#I did not convert diagnosis and palce encoded values in another column(just in case)\n",
    "df['diagnosis-enc'] = df['diagnosis'].map({'M':1, 'B':0})"
   ]
  },
  {
   "cell_type": "code",
   "execution_count": 8,
   "id": "f7633327",
   "metadata": {
    "execution": {
     "iopub.execute_input": "2025-08-02T18:49:15.047882Z",
     "iopub.status.busy": "2025-08-02T18:49:15.047566Z",
     "iopub.status.idle": "2025-08-02T18:49:15.055627Z",
     "shell.execute_reply": "2025-08-02T18:49:15.054747Z"
    },
    "papermill": {
     "duration": 0.014628,
     "end_time": "2025-08-02T18:49:15.057234",
     "exception": false,
     "start_time": "2025-08-02T18:49:15.042606",
     "status": "completed"
    },
    "tags": []
   },
   "outputs": [
    {
     "data": {
      "text/plain": [
       "array([1, 0])"
      ]
     },
     "execution_count": 8,
     "metadata": {},
     "output_type": "execute_result"
    }
   ],
   "source": [
    "df['diagnosis-enc'].unique()\n",
    "#checking is always GOOD"
   ]
  },
  {
   "cell_type": "code",
   "execution_count": 9,
   "id": "adec4316",
   "metadata": {
    "execution": {
     "iopub.execute_input": "2025-08-02T18:49:15.066849Z",
     "iopub.status.busy": "2025-08-02T18:49:15.066524Z",
     "iopub.status.idle": "2025-08-02T18:49:15.078117Z",
     "shell.execute_reply": "2025-08-02T18:49:15.077131Z"
    },
    "papermill": {
     "duration": 0.018715,
     "end_time": "2025-08-02T18:49:15.080149",
     "exception": false,
     "start_time": "2025-08-02T18:49:15.061434",
     "status": "completed"
    },
    "tags": []
   },
   "outputs": [
    {
     "data": {
      "text/plain": [
       "diagnosis\n",
       "B    357\n",
       "M    212\n",
       "Name: count, dtype: int64"
      ]
     },
     "execution_count": 9,
     "metadata": {},
     "output_type": "execute_result"
    }
   ],
   "source": [
    "df['diagnosis'].value_counts()\n"
   ]
  },
  {
   "cell_type": "markdown",
   "id": "db0b3549",
   "metadata": {
    "papermill": {
     "duration": 0.004218,
     "end_time": "2025-08-02T18:49:15.088990",
     "exception": false,
     "start_time": "2025-08-02T18:49:15.084772",
     "status": "completed"
    },
    "tags": []
   },
   "source": [
    "# Null Values"
   ]
  },
  {
   "cell_type": "code",
   "execution_count": 10,
   "id": "bd6d0a1c",
   "metadata": {
    "execution": {
     "iopub.execute_input": "2025-08-02T18:49:15.099657Z",
     "iopub.status.busy": "2025-08-02T18:49:15.099334Z",
     "iopub.status.idle": "2025-08-02T18:49:15.110019Z",
     "shell.execute_reply": "2025-08-02T18:49:15.108501Z"
    },
    "papermill": {
     "duration": 0.018214,
     "end_time": "2025-08-02T18:49:15.112097",
     "exception": false,
     "start_time": "2025-08-02T18:49:15.093883",
     "status": "completed"
    },
    "tags": []
   },
   "outputs": [
    {
     "data": {
      "text/plain": [
       "diagnosis                  0\n",
       "radius_mean                0\n",
       "texture_mean               0\n",
       "perimeter_mean             0\n",
       "area_mean                  0\n",
       "smoothness_mean            0\n",
       "compactness_mean           0\n",
       "concavity_mean             0\n",
       "concave points_mean        0\n",
       "symmetry_mean              0\n",
       "fractal_dimension_mean     0\n",
       "radius_se                  0\n",
       "texture_se                 0\n",
       "perimeter_se               0\n",
       "area_se                    0\n",
       "smoothness_se              0\n",
       "compactness_se             0\n",
       "concavity_se               0\n",
       "concave points_se          0\n",
       "symmetry_se                0\n",
       "fractal_dimension_se       0\n",
       "radius_worst               0\n",
       "texture_worst              0\n",
       "perimeter_worst            0\n",
       "area_worst                 0\n",
       "smoothness_worst           0\n",
       "compactness_worst          0\n",
       "concavity_worst            0\n",
       "concave points_worst       0\n",
       "symmetry_worst             0\n",
       "fractal_dimension_worst    0\n",
       "diagnosis-enc              0\n",
       "dtype: int64"
      ]
     },
     "execution_count": 10,
     "metadata": {},
     "output_type": "execute_result"
    }
   ],
   "source": [
    "df.isnull().sum()"
   ]
  },
  {
   "cell_type": "markdown",
   "id": "60c6adbb",
   "metadata": {
    "papermill": {
     "duration": 0.004672,
     "end_time": "2025-08-02T18:49:15.121407",
     "exception": false,
     "start_time": "2025-08-02T18:49:15.116735",
     "status": "completed"
    },
    "tags": []
   },
   "source": [
    "no null value we are so happy"
   ]
  },
  {
   "cell_type": "markdown",
   "id": "a968ecfb",
   "metadata": {
    "papermill": {
     "duration": 0.004137,
     "end_time": "2025-08-02T18:49:15.129985",
     "exception": false,
     "start_time": "2025-08-02T18:49:15.125848",
     "status": "completed"
    },
    "tags": []
   },
   "source": [
    "# dropping Dup"
   ]
  },
  {
   "cell_type": "code",
   "execution_count": 11,
   "id": "173d5a5b",
   "metadata": {
    "execution": {
     "iopub.execute_input": "2025-08-02T18:49:15.140715Z",
     "iopub.status.busy": "2025-08-02T18:49:15.140266Z",
     "iopub.status.idle": "2025-08-02T18:49:15.152152Z",
     "shell.execute_reply": "2025-08-02T18:49:15.151275Z"
    },
    "papermill": {
     "duration": 0.019209,
     "end_time": "2025-08-02T18:49:15.153714",
     "exception": false,
     "start_time": "2025-08-02T18:49:15.134505",
     "status": "completed"
    },
    "tags": []
   },
   "outputs": [
    {
     "data": {
      "text/plain": [
       "False"
      ]
     },
     "execution_count": 11,
     "metadata": {},
     "output_type": "execute_result"
    }
   ],
   "source": [
    "df.duplicated().any()"
   ]
  },
  {
   "cell_type": "markdown",
   "id": "d67c9e70",
   "metadata": {
    "papermill": {
     "duration": 0.004337,
     "end_time": "2025-08-02T18:49:15.162921",
     "exception": false,
     "start_time": "2025-08-02T18:49:15.158584",
     "status": "completed"
    },
    "tags": []
   },
   "source": [
    "everything is FINE"
   ]
  }
 ],
 "metadata": {
  "kaggle": {
   "accelerator": "none",
   "dataSources": [
    {
     "datasetId": 7975086,
     "sourceId": 12622449,
     "sourceType": "datasetVersion"
    }
   ],
   "dockerImageVersionId": 31089,
   "isGpuEnabled": false,
   "isInternetEnabled": true,
   "language": "python",
   "sourceType": "notebook"
  },
  "kernelspec": {
   "display_name": "Python 3",
   "language": "python",
   "name": "python3"
  },
  "language_info": {
   "codemirror_mode": {
    "name": "ipython",
    "version": 3
   },
   "file_extension": ".py",
   "mimetype": "text/x-python",
   "name": "python",
   "nbconvert_exporter": "python",
   "pygments_lexer": "ipython3",
   "version": "3.11.13"
  },
  "papermill": {
   "default_parameters": {},
   "duration": 8.311998,
   "end_time": "2025-08-02T18:49:15.687573",
   "environment_variables": {},
   "exception": null,
   "input_path": "__notebook__.ipynb",
   "output_path": "__notebook__.ipynb",
   "parameters": {},
   "start_time": "2025-08-02T18:49:07.375575",
   "version": "2.6.0"
  }
 },
 "nbformat": 4,
 "nbformat_minor": 5
}
